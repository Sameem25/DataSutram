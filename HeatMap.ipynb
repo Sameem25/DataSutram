{
 "cells": [
  {
   "cell_type": "code",
   "execution_count": 88,
   "metadata": {},
   "outputs": [],
   "source": [
    "import pandas as pd\n",
    "import folium\n",
    "from folium.plugins import HeatMap\n",
    "from folium import plugins\n",
    "import gmaps"
   ]
  },
  {
   "cell_type": "code",
   "execution_count": 75,
   "metadata": {},
   "outputs": [],
   "source": [
    "data = pd.read_excel('heatmap_buy_20.xlsx')"
   ]
  },
  {
   "cell_type": "code",
   "execution_count": 76,
   "metadata": {},
   "outputs": [],
   "source": [
    "new_header = data.iloc[0]\n",
    "data = data[1:]\n",
    "data.columns = new_header"
   ]
  },
  {
   "cell_type": "code",
   "execution_count": 77,
   "metadata": {},
   "outputs": [],
   "source": [
    "data['latitude']=data.latitude.astype(float)\n",
    "data['longitude']=data.longitude.astype(float)\n",
    "data['weight']=data.weight.astype(float)\n",
    "data.sort_values(by=['weight'], inplace=True)"
   ]
  },
  {
   "cell_type": "code",
   "execution_count": 79,
   "metadata": {},
   "outputs": [
    {
     "name": "stdout",
     "output_type": "stream",
     "text": [
      "0   longitude   latitude      weight\n",
      "15  88.234770  22.623169   2699.8706\n",
      "20  88.449020  22.697584   2849.3723\n",
      "14  88.439660  22.698593   2900.5890\n",
      "6   88.439660  22.698593   2900.5890\n",
      "19  88.398390  22.413591   3000.0000\n",
      "17  88.448296  22.617840   3989.5498\n",
      "1   88.435715  22.595484   4000.0000\n",
      "9   88.465170  22.638279   4100.0000\n",
      "13  88.326035  22.481918   4500.0000\n",
      "2   88.327835  22.488018   4930.3370\n",
      "7   88.327835  22.488018   4930.5083\n",
      "16  88.420050  22.628452   5921.8950\n",
      "3   88.420050  22.628452   5992.0635\n",
      "12  88.382576  22.548110   6482.4653\n",
      "11  88.390140  22.616138   6924.4185\n",
      "10  88.398680  22.493317   6991.3213\n",
      "8   88.340150  22.501444   7649.3580\n",
      "5   88.340150  22.501444   7649.3580\n",
      "4   88.339935  22.495138   8171.4287\n",
      "18  88.459460  22.612478  19869.5640\n"
     ]
    }
   ],
   "source": [
    "print (data)"
   ]
  },
  {
   "cell_type": "code",
   "execution_count": 82,
   "metadata": {},
   "outputs": [],
   "source": [
    "intensity = 12\n",
    "gmaps.configure(api_key=\"AIzaSyC...\")\n",
    "m = gmaps.Map()\n",
    "locations = data[['latitude', 'longitude']]\n",
    "\n",
    "#coordinates = (22.481918, 88.326035)\n",
    "#gmaps.figure(center=coordinates, zoom_level=11)\n",
    "\n",
    "#Get the magnitude from the data\n",
    "weights = data['weight']"
   ]
  },
  {
   "cell_type": "code",
   "execution_count": 86,
   "metadata": {},
   "outputs": [],
   "source": [
    "def drawHeatMap(location, weights, radius):\n",
    "    # setting the data and parameters\n",
    "    \n",
    "    heatmap_layer = gmaps.heatmap_layer(location, weights=weights, dissipating = True)\n",
    "    heatmap_layer.point_radius = radius\n",
    "    # draw the heatmap into a figure\n",
    "    fig = gmaps.figure(layout={\n",
    "        'width': '900px',\n",
    "        'height': '550px',\n",
    "        'padding': '3px',\n",
    "        'border': '1px solid black'\n",
    "})\n",
    "    #fig = gmaps.figure(center = [center_lat,center_lng], zoom_level=zoom)\n",
    "    fig.add_layer(heatmap_layer)\n",
    "    return fig"
   ]
  },
  {
   "cell_type": "code",
   "execution_count": 87,
   "metadata": {},
   "outputs": [
    {
     "data": {
      "application/vnd.jupyter.widget-view+json": {
       "model_id": "a22ce0657f7d40e891ab9ebcf0af045a",
       "version_major": 2,
       "version_minor": 0
      },
      "text/plain": [
       "Figure(layout=FigureLayout(border='1px solid black', height='550px', padding='3px', width='900px'))"
      ]
     },
     "metadata": {},
     "output_type": "display_data"
    }
   ],
   "source": [
    "drawHeatMap(locations,weights, intensity)"
   ]
  }
 ],
 "metadata": {
  "kernelspec": {
   "display_name": "Python 3",
   "language": "python",
   "name": "python3"
  },
  "language_info": {
   "codemirror_mode": {
    "name": "ipython",
    "version": 3
   },
   "file_extension": ".py",
   "mimetype": "text/x-python",
   "name": "python",
   "nbconvert_exporter": "python",
   "pygments_lexer": "ipython3",
   "version": "3.6.5"
  }
 },
 "nbformat": 4,
 "nbformat_minor": 2
}
